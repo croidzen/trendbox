{
 "cells": [
  {
   "cell_type": "code",
   "execution_count": 22,
   "metadata": {},
   "outputs": [],
   "source": [
    "import pandas as pd\n",
    "import matplotlib.pyplot as plt\n",
    "plt.rcParams['figure.figsize'] = [13, 7]"
   ]
  },
  {
   "cell_type": "code",
   "execution_count": 23,
   "metadata": {},
   "outputs": [
    {
     "data": {
      "text/html": [
       "<div>\n",
       "<style scoped>\n",
       "    .dataframe tbody tr th:only-of-type {\n",
       "        vertical-align: middle;\n",
       "    }\n",
       "\n",
       "    .dataframe tbody tr th {\n",
       "        vertical-align: top;\n",
       "    }\n",
       "\n",
       "    .dataframe thead th {\n",
       "        text-align: right;\n",
       "    }\n",
       "</style>\n",
       "<table border=\"1\" class=\"dataframe\">\n",
       "  <thead>\n",
       "    <tr style=\"text-align: right;\">\n",
       "      <th></th>\n",
       "      <th>Open</th>\n",
       "      <th>High</th>\n",
       "      <th>Low</th>\n",
       "      <th>Close</th>\n",
       "      <th>Adj Close</th>\n",
       "      <th>Volume</th>\n",
       "    </tr>\n",
       "    <tr>\n",
       "      <th># Date</th>\n",
       "      <th></th>\n",
       "      <th></th>\n",
       "      <th></th>\n",
       "      <th></th>\n",
       "      <th></th>\n",
       "      <th></th>\n",
       "    </tr>\n",
       "  </thead>\n",
       "  <tbody>\n",
       "    <tr>\n",
       "      <th>02-01-1990</th>\n",
       "      <td>0.605903</td>\n",
       "      <td>0.616319</td>\n",
       "      <td>0.598090</td>\n",
       "      <td>0.616319</td>\n",
       "      <td>0.450929</td>\n",
       "      <td>53033600</td>\n",
       "    </tr>\n",
       "    <tr>\n",
       "      <th>03-01-1990</th>\n",
       "      <td>0.621528</td>\n",
       "      <td>0.626736</td>\n",
       "      <td>0.614583</td>\n",
       "      <td>0.619792</td>\n",
       "      <td>0.453470</td>\n",
       "      <td>113772800</td>\n",
       "    </tr>\n",
       "    <tr>\n",
       "      <th>04-01-1990</th>\n",
       "      <td>0.619792</td>\n",
       "      <td>0.638889</td>\n",
       "      <td>0.616319</td>\n",
       "      <td>0.638021</td>\n",
       "      <td>0.466807</td>\n",
       "      <td>125740800</td>\n",
       "    </tr>\n",
       "    <tr>\n",
       "      <th>05-01-1990</th>\n",
       "      <td>0.635417</td>\n",
       "      <td>0.638889</td>\n",
       "      <td>0.621528</td>\n",
       "      <td>0.622396</td>\n",
       "      <td>0.455375</td>\n",
       "      <td>69564800</td>\n",
       "    </tr>\n",
       "    <tr>\n",
       "      <th>08-01-1990</th>\n",
       "      <td>0.621528</td>\n",
       "      <td>0.631944</td>\n",
       "      <td>0.614583</td>\n",
       "      <td>0.631944</td>\n",
       "      <td>0.462361</td>\n",
       "      <td>58982400</td>\n",
       "    </tr>\n",
       "  </tbody>\n",
       "</table>\n",
       "</div>"
      ],
      "text/plain": [
       "                Open      High       Low     Close  Adj Close     Volume\n",
       "# Date                                                                  \n",
       "02-01-1990  0.605903  0.616319  0.598090  0.616319   0.450929   53033600\n",
       "03-01-1990  0.621528  0.626736  0.614583  0.619792   0.453470  113772800\n",
       "04-01-1990  0.619792  0.638889  0.616319  0.638021   0.466807  125740800\n",
       "05-01-1990  0.635417  0.638889  0.621528  0.622396   0.455375   69564800\n",
       "08-01-1990  0.621528  0.631944  0.614583  0.631944   0.462361   58982400"
      ]
     },
     "execution_count": 23,
     "metadata": {},
     "output_type": "execute_result"
    }
   ],
   "source": [
    "df = pd.read_csv(filepath_or_buffer='C:\\\\temp\\\\msft.csv', header=1, index_col=0)\n",
    "df.head()"
   ]
  },
  {
   "cell_type": "code",
   "execution_count": 24,
   "metadata": {},
   "outputs": [
    {
     "data": {
      "text/html": [
       "<div>\n",
       "<style scoped>\n",
       "    .dataframe tbody tr th:only-of-type {\n",
       "        vertical-align: middle;\n",
       "    }\n",
       "\n",
       "    .dataframe tbody tr th {\n",
       "        vertical-align: top;\n",
       "    }\n",
       "\n",
       "    .dataframe thead th {\n",
       "        text-align: right;\n",
       "    }\n",
       "</style>\n",
       "<table border=\"1\" class=\"dataframe\">\n",
       "  <thead>\n",
       "    <tr style=\"text-align: right;\">\n",
       "      <th></th>\n",
       "      <th>Open</th>\n",
       "      <th>High</th>\n",
       "      <th>Low</th>\n",
       "      <th>Close</th>\n",
       "      <th>Adj Close</th>\n",
       "      <th>Volume</th>\n",
       "      <th>top_slope</th>\n",
       "      <th>bot_slope</th>\n",
       "    </tr>\n",
       "    <tr>\n",
       "      <th>bar_no</th>\n",
       "      <th></th>\n",
       "      <th></th>\n",
       "      <th></th>\n",
       "      <th></th>\n",
       "      <th></th>\n",
       "      <th></th>\n",
       "      <th></th>\n",
       "      <th></th>\n",
       "    </tr>\n",
       "  </thead>\n",
       "  <tbody>\n",
       "    <tr>\n",
       "      <th>0</th>\n",
       "      <td>0.605903</td>\n",
       "      <td>0.616319</td>\n",
       "      <td>0.598090</td>\n",
       "      <td>0.616319</td>\n",
       "      <td>0.450929</td>\n",
       "      <td>53033600</td>\n",
       "      <td>NaN</td>\n",
       "      <td>NaN</td>\n",
       "    </tr>\n",
       "    <tr>\n",
       "      <th>1</th>\n",
       "      <td>0.621528</td>\n",
       "      <td>0.626736</td>\n",
       "      <td>0.614583</td>\n",
       "      <td>0.619792</td>\n",
       "      <td>0.453470</td>\n",
       "      <td>113772800</td>\n",
       "      <td>NaN</td>\n",
       "      <td>NaN</td>\n",
       "    </tr>\n",
       "    <tr>\n",
       "      <th>2</th>\n",
       "      <td>0.619792</td>\n",
       "      <td>0.638889</td>\n",
       "      <td>0.616319</td>\n",
       "      <td>0.638021</td>\n",
       "      <td>0.466807</td>\n",
       "      <td>125740800</td>\n",
       "      <td>NaN</td>\n",
       "      <td>NaN</td>\n",
       "    </tr>\n",
       "    <tr>\n",
       "      <th>3</th>\n",
       "      <td>0.635417</td>\n",
       "      <td>0.638889</td>\n",
       "      <td>0.621528</td>\n",
       "      <td>0.622396</td>\n",
       "      <td>0.455375</td>\n",
       "      <td>69564800</td>\n",
       "      <td>NaN</td>\n",
       "      <td>NaN</td>\n",
       "    </tr>\n",
       "    <tr>\n",
       "      <th>4</th>\n",
       "      <td>0.621528</td>\n",
       "      <td>0.631944</td>\n",
       "      <td>0.614583</td>\n",
       "      <td>0.631944</td>\n",
       "      <td>0.462361</td>\n",
       "      <td>58982400</td>\n",
       "      <td>NaN</td>\n",
       "      <td>NaN</td>\n",
       "    </tr>\n",
       "  </tbody>\n",
       "</table>\n",
       "</div>"
      ],
      "text/plain": [
       "            Open      High       Low     Close  Adj Close     Volume  \\\n",
       "bar_no                                                                 \n",
       "0       0.605903  0.616319  0.598090  0.616319   0.450929   53033600   \n",
       "1       0.621528  0.626736  0.614583  0.619792   0.453470  113772800   \n",
       "2       0.619792  0.638889  0.616319  0.638021   0.466807  125740800   \n",
       "3       0.635417  0.638889  0.621528  0.622396   0.455375   69564800   \n",
       "4       0.621528  0.631944  0.614583  0.631944   0.462361   58982400   \n",
       "\n",
       "        top_slope  bot_slope  \n",
       "bar_no                        \n",
       "0             NaN        NaN  \n",
       "1             NaN        NaN  \n",
       "2             NaN        NaN  \n",
       "3             NaN        NaN  \n",
       "4             NaN        NaN  "
      ]
     },
     "execution_count": 24,
     "metadata": {},
     "output_type": "execute_result"
    }
   ],
   "source": [
    "#df.index = pd.to_datetime(df.index, format='%d-%m-%Y')\n",
    "df['top_slope'] = pd.Series(float('NaN'), index=df.index)\n",
    "df['bot_slope'] = pd.Series(float('NaN'), index=df.index)\n",
    "df['bar_no'] = range(0, len(df))\n",
    "df = df.set_index(keys='bar_no')\n",
    "df.head()"
   ]
  },
  {
   "cell_type": "code",
   "execution_count": 31,
   "metadata": {},
   "outputs": [
    {
     "data": {
      "text/html": [
       "<div>\n",
       "<style scoped>\n",
       "    .dataframe tbody tr th:only-of-type {\n",
       "        vertical-align: middle;\n",
       "    }\n",
       "\n",
       "    .dataframe tbody tr th {\n",
       "        vertical-align: top;\n",
       "    }\n",
       "\n",
       "    .dataframe thead th {\n",
       "        text-align: right;\n",
       "    }\n",
       "</style>\n",
       "<table border=\"1\" class=\"dataframe\">\n",
       "  <thead>\n",
       "    <tr style=\"text-align: right;\">\n",
       "      <th></th>\n",
       "      <th>High</th>\n",
       "      <th>Low</th>\n",
       "      <th>top_slope</th>\n",
       "      <th>bot_slope</th>\n",
       "    </tr>\n",
       "    <tr>\n",
       "      <th>bar_no</th>\n",
       "      <th></th>\n",
       "      <th></th>\n",
       "      <th></th>\n",
       "      <th></th>\n",
       "    </tr>\n",
       "  </thead>\n",
       "  <tbody>\n",
       "    <tr>\n",
       "      <th>0</th>\n",
       "      <td>0.616319</td>\n",
       "      <td>0.598090</td>\n",
       "      <td>NaN</td>\n",
       "      <td>NaN</td>\n",
       "    </tr>\n",
       "    <tr>\n",
       "      <th>1</th>\n",
       "      <td>0.626736</td>\n",
       "      <td>0.614583</td>\n",
       "      <td>NaN</td>\n",
       "      <td>NaN</td>\n",
       "    </tr>\n",
       "    <tr>\n",
       "      <th>2</th>\n",
       "      <td>0.638889</td>\n",
       "      <td>0.616319</td>\n",
       "      <td>NaN</td>\n",
       "      <td>NaN</td>\n",
       "    </tr>\n",
       "    <tr>\n",
       "      <th>3</th>\n",
       "      <td>0.638889</td>\n",
       "      <td>0.621528</td>\n",
       "      <td>NaN</td>\n",
       "      <td>NaN</td>\n",
       "    </tr>\n",
       "    <tr>\n",
       "      <th>4</th>\n",
       "      <td>0.631944</td>\n",
       "      <td>0.614583</td>\n",
       "      <td>NaN</td>\n",
       "      <td>NaN</td>\n",
       "    </tr>\n",
       "  </tbody>\n",
       "</table>\n",
       "</div>"
      ],
      "text/plain": [
       "            High       Low  top_slope  bot_slope\n",
       "bar_no                                          \n",
       "0       0.616319  0.598090        NaN        NaN\n",
       "1       0.626736  0.614583        NaN        NaN\n",
       "2       0.638889  0.616319        NaN        NaN\n",
       "3       0.638889  0.621528        NaN        NaN\n",
       "4       0.631944  0.614583        NaN        NaN"
      ]
     },
     "execution_count": 31,
     "metadata": {},
     "output_type": "execute_result"
    }
   ],
   "source": [
    "df = df.drop(['Open', 'Close', 'Adj Close', 'Volume'], axis='columns')\n",
    "df.head()"
   ]
  },
  {
   "cell_type": "code",
   "execution_count": 78,
   "metadata": {},
   "outputs": [
    {
     "data": {
      "text/plain": [
       "[<matplotlib.lines.Line2D at 0x14e44be8c50>,\n",
       " <matplotlib.lines.Line2D at 0x14e44be8d68>]"
      ]
     },
     "execution_count": 78,
     "metadata": {},
     "output_type": "execute_result"
    },
    {
     "data": {
      "image/png": "[encoded data removed]",
      "text/plain": [
       "<Figure size 936x504 with 1 Axes>"
      ]
     },
     "metadata": {},
     "output_type": "display_data"
    }
   ],
   "source": [
    "plt.plot(df.index.values, df['High'], df.index.values, df['Low'])"
   ]
  },
  {
   "cell_type": "code",
   "execution_count": 35,
   "metadata": {},
   "outputs": [],
   "source": [
    "max_high_pos = df['High'].idxmax()\n",
    "min_low_pos = df['Low'].idxmin()"
   ]
  },
  {
   "cell_type": "code",
   "execution_count": 56,
   "metadata": {},
   "outputs": [
    {
     "data": {
      "text/plain": [
       "7164"
      ]
     },
     "execution_count": 56,
     "metadata": {},
     "output_type": "execute_result"
    }
   ],
   "source": [
    "top_rot_pos = max_high_pos\n",
    "bot_rot_pos = min_low_pos"
   ]
  },
  {
   "cell_type": "code",
   "execution_count": 37,
   "metadata": {},
   "outputs": [],
   "source": [
    "if (max_high_pos > min_low_pos):\n",
    "    positive_slope = True\n",
    "else:\n",
    "    positive_slope = False\n",
    "    "
   ]
  },
  {
   "cell_type": "code",
   "execution_count": 43,
   "metadata": {},
   "outputs": [],
   "source": [
    "if(positive_slope):\n",
    "    startpos_high = 0\n",
    "    endpos_high = top_rot_pos - 1\n",
    "    startpos_low = bot_rot_pos + 1\n",
    "    endpos_low = df.shape[0] - 1\n",
    "else:\n",
    "    startpos_high = top_rot_pos + 1\n",
    "    endpos_high = df.shape[0] - 1\n",
    "    startpos_low = 0\n",
    "    endpos_low = bot_rot_pos - 1"
   ]
  },
  {
   "cell_type": "code",
   "execution_count": 98,
   "metadata": {},
   "outputs": [],
   "source": [
    "#slope = (y-yi)/(x-xi)\n",
    "\n",
    "df['top_slope'] = pd.Series(float('NaN'), index=df.index)\n",
    "\n",
    "length = endpos_high - startpos_high\n",
    "y = df.loc[top_rot_pos, 'High']\n",
    "y = pd.Series(y, index=range(startpos_high, length))\n",
    "yi = df.loc[startpos_high:endpos_high, 'High']\n",
    "x = top_rot_pos\n",
    "x = pd.Series(x, index=range(startpos_high, length))\n",
    "xi = df.index.tolist()[startpos_high:endpos_high]\n",
    "\n",
    "df.loc[startpos_high:endpos_high, 'top_slope'] = ((y.sub(yi)).div(x.sub(xi))).mul(100)\n"
   ]
  },
  {
   "cell_type": "code",
   "execution_count": 106,
   "metadata": {},
   "outputs": [
    {
     "data": {
      "text/plain": [
       "[<matplotlib.lines.Line2D at 0x14e46e67da0>]"
      ]
     },
     "execution_count": 106,
     "metadata": {},
     "output_type": "execute_result"
    },
    {
     "data": {
      "image/png": "[encoded data removed]",
      "text/plain": [
       "<Figure size 936x504 with 2 Axes>"
      ]
     },
     "metadata": {},
     "output_type": "display_data"
    }
   ],
   "source": [
    "plt.figure(1)\n",
    "plt.subplot(211)\n",
    "plt.plot(df.index.values, df['High'])\n",
    "plt.subplot(212)\n",
    "plt.plot(df.index.values, df['top_slope'])"
   ]
  }
 ],
 "metadata": {
  "kernelspec": {
   "display_name": "Python 3",
   "language": "python",
   "name": "python3"
  },
  "language_info": {
   "codemirror_mode": {
    "name": "ipython",
    "version": 3
   },
   "file_extension": ".py",
   "mimetype": "text/x-python",
   "name": "python",
   "nbconvert_exporter": "python",
   "pygments_lexer": "ipython3",
   "version": "3.6.5"
  }
 },
 "nbformat": 4,
 "nbformat_minor": 2
}
